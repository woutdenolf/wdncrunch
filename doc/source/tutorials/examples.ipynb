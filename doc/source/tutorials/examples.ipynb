{
 "cells": [
  {
   "cell_type": "markdown",
   "metadata": {},
   "source": [
    "Examples\n",
    "========"
   ]
  },
  {
   "cell_type": "code",
   "execution_count": 2,
   "metadata": {},
   "outputs": [
    {
     "name": "stdout",
     "output_type": "stream",
     "text": [
      "Help on function func in module wdncrunch.modulea.classa:\n",
      "\n",
      "func(self, x)\n",
      "    Function description\n",
      "    \n",
      "    Args:\n",
      "        x (num): a number\n",
      "    \n",
      "    Returns:\n",
      "        num: same as input\n",
      "\n"
     ]
    }
   ],
   "source": [
    "from wdncrunch.modulea.classa import classa\n",
    "help(classa.func)"
   ]
  }
 ],
 "metadata": {
  "kernelspec": {
   "display_name": "Python 3",
   "language": "python",
   "name": "python3"
  },
  "language_info": {
   "codemirror_mode": {
    "name": "ipython",
    "version": 3
   },
   "file_extension": ".py",
   "mimetype": "text/x-python",
   "name": "python",
   "nbconvert_exporter": "python",
   "pygments_lexer": "ipython3",
   "version": "3.6.4"
  }
 },
 "nbformat": 4,
 "nbformat_minor": 2
}
